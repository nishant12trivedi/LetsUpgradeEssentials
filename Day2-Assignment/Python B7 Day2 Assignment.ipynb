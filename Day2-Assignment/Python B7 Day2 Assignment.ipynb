{
 "cells": [
  {
   "cell_type": "code",
   "execution_count": 92,
   "metadata": {},
   "outputs": [
    {
     "name": "stdout",
     "output_type": "stream",
     "text": [
      "<class 'list'>\n",
      "[1, 2.0, 'Hello']\n",
      "[1, 2.0, 'Hello', 'Hi']\n",
      "[1, 2.0, 'Hello', 'Hi', 5, 'Ant']\n",
      "[1, 2.0, 'Hello', 5, 'Ant']\n",
      "[1, 2.0, 'East', 'Hello', 5, 'Ant']\n",
      "[1, 2.0, 'East', 'Hello', 5]\n"
     ]
    }
   ],
   "source": [
    "#Q1. LIST\n",
    "\n",
    "L1=[1,2.0,'Hello']\n",
    "print(type(L1))\n",
    "print(L1)\n",
    "\n",
    "L1.append('Hi')\n",
    "print(L1)\n",
    "\n",
    "L1.extend([5,'Ant'])\n",
    "print(L1)\n",
    "\n",
    "L1.remove('Hi')\n",
    "print(L1)\n",
    "\n",
    "L1.insert(2,'East')\n",
    "print(L1)\n",
    "\n",
    "L1.pop()\n",
    "print(L1)"
   ]
  },
  {
   "cell_type": "code",
   "execution_count": 93,
   "metadata": {},
   "outputs": [
    {
     "name": "stdout",
     "output_type": "stream",
     "text": [
      "<class 'dict'>\n",
      "{1: 'a', 2: 'b', 3: 'c', 4: 'd'}\n",
      "dict_items([(1, 'a'), (2, 'b'), (3, 'c'), (4, 'd')])\n",
      "dict_keys([1, 2, 3, 4])\n",
      "dict_values(['a', 'b', 'c', 'd'])\n",
      "b\n",
      "e\n"
     ]
    }
   ],
   "source": [
    "#Q2. DICTIONARY\n",
    "\n",
    "D1={1:'a',2:'b',3:'c',4:'d'}\n",
    "print(type(D1))\n",
    "print(D1)\n",
    "\n",
    "print(D1.items())\n",
    "print(D1.keys())\n",
    "print(D1.values())\n",
    "print(D1.get(2))\n",
    "print(D1.setdefault(5,'e'))"
   ]
  },
  {
   "cell_type": "code",
   "execution_count": 94,
   "metadata": {},
   "outputs": [
    {
     "name": "stdout",
     "output_type": "stream",
     "text": [
      "<class 'set'>\n",
      "{1, 2, 3, 4, 5, 6, 7, 8}\n",
      "{8, 2, 6}\n",
      "{1, 5}\n",
      "{8, 2, 6}\n",
      "False\n"
     ]
    }
   ],
   "source": [
    "#Q3. SETS\n",
    "\n",
    "S1={1,3,5,7}\n",
    "S2={2,4,6,8}\n",
    "S3={1,2,5,6,8}\n",
    "print(type(S1))\n",
    "\n",
    "print(S1.union(S2))\n",
    "print(S3.intersection(S2))\n",
    "print(S1&S3)\n",
    "print(S3-S1)\n",
    "print(S1<S2)"
   ]
  },
  {
   "cell_type": "code",
   "execution_count": 95,
   "metadata": {},
   "outputs": [
    {
     "name": "stdout",
     "output_type": "stream",
     "text": [
      "<class 'tuple'>\n",
      "(1, 2.0, 'Ace')\n",
      "2.0\n",
      "(1, 2.0)\n",
      "(1, 2.0, 'Ace', 'a', 5, 5)\n",
      "2\n",
      "1\n"
     ]
    }
   ],
   "source": [
    "#Q4. TUPLES\n",
    "\n",
    "T1=(1,2.0,'Ace')\n",
    "T2=('a',5,5)\n",
    "\n",
    "print(type(T1))\n",
    "print(T1)\n",
    "\n",
    "print(T1[1])\n",
    "print(T1[0:2])\n",
    "print(T1+T2)\n",
    "print(T2.count(5))\n",
    "print(T1.index(2.0))"
   ]
  },
  {
   "cell_type": "code",
   "execution_count": 96,
   "metadata": {},
   "outputs": [
    {
     "name": "stdout",
     "output_type": "stream",
     "text": [
      "<class 'str'>\n",
      "good morning everyone\n",
      "Good morning everyone\n",
      "hello world\n",
      "4\n",
      "1\n",
      "morning everyone\n"
     ]
    }
   ],
   "source": [
    "#Q5. STRINGS\n",
    "\n",
    "S1=\"good morning everyone\"\n",
    "S2=\"HELLO WORLD\"\n",
    "print(type(S1))\n",
    "print(S1)\n",
    "\n",
    "print(S1.capitalize())\n",
    "print(S2.casefold())\n",
    "print(S1.count('o'))\n",
    "print(S1.find('o'))\n",
    "print(S1.strip('good '))"
   ]
  },
  {
   "cell_type": "code",
   "execution_count": null,
   "metadata": {},
   "outputs": [],
   "source": []
  }
 ],
 "metadata": {
  "kernelspec": {
   "display_name": "Python 3",
   "language": "python",
   "name": "python3"
  },
  "language_info": {
   "codemirror_mode": {
    "name": "ipython",
    "version": 3
   },
   "file_extension": ".py",
   "mimetype": "text/x-python",
   "name": "python",
   "nbconvert_exporter": "python",
   "pygments_lexer": "ipython3",
   "version": "3.8.3"
  }
 },
 "nbformat": 4,
 "nbformat_minor": 4
}
